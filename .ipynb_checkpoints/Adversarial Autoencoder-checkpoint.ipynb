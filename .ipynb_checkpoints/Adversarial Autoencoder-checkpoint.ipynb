{
 "cells": [
  {
   "cell_type": "code",
   "execution_count": 1,
   "id": "33480233",
   "metadata": {},
   "outputs": [],
   "source": [
    "import pandas as pd\n",
    "import numpy as np\n",
    "from matplotlib import pyplot"
   ]
  },
  {
   "cell_type": "code",
   "execution_count": 22,
   "id": "6d122441",
   "metadata": {},
   "outputs": [],
   "source": [
    "from tensorflow.keras import Model\n",
    "from tensorflow.keras.layers import Conv2D,Conv2DTranspose,Dropout, LeakyReLU, Dense\n",
    "from tensorflow.keras.initializers import HeNormal\n",
    "\n",
    "class encoder(Model):\n",
    "    def __init__(self):\n",
    "        # Input layer\n",
    "        super(encoder, self).__init__()\n",
    "        init = HeNormal()\n",
    "        self.conv1 = Conv2D(128,(3,3),strides=(2,2),padding=\"same\",kernel_initializer=init)\n",
    "        self.leaky1 = LeakyReLU(alpha=0.2)\n",
    "        self.drop1 = Dropout(0.2)\n",
    "        \n",
    "        self.conv2 = Conv2D(32,(3,3),strides=(2,2),padding=\"same\",kernel_initializer=init)\n",
    "        self.leaky2 = LeakyReLU(alpha=0.2)\n",
    "        self.drop2 = Dropout(0.2)\n",
    "        \n",
    "        self.conv3 = Conv2D(8,(3,3),strides=(2,2),padding=\"same\",kernel_initializer=init)\n",
    "        self.leaky3 = LeakyReLU(alpha=0.2)\n",
    "        self.drop3 = Dropout(0.2)\n",
    "        \n",
    "        self.conv4 = Conv2D(2,(3,3),strides=(2,2),padding=\"same\",kernel_initializer=init)\n",
    "        self.leaky4 = LeakyReLU(alpha=0.2)\n",
    "        self.drop4 = Dropout(0.2)\n",
    "        \n",
    "        self.dense1 = Dense(2)\n",
    "    def call(self,input_tensor):\n",
    "        \n",
    "        x = self.conv1(input_tensor)\n",
    "        x = self.leaky1(x)\n",
    "        x = self.drop1(x)\n",
    "        \n",
    "        x = self.conv2(x)\n",
    "        x = self.leaky2(x)\n",
    "        x = self.drop2(x)\n",
    "        \n",
    "        x = self.conv3(x)\n",
    "        x = self.leaky3(x)\n",
    "        x = self.drop3(x)\n",
    "        \n",
    "        x = self.conv4(x)\n",
    "        x = self.leaky4(x)\n",
    "        x = self.drop4(x)\n",
    "        \n",
    "        output = self.dense1(x)\n",
    "        return Model(input_tensor,output)"
   ]
  },
  {
   "cell_type": "raw",
   "id": "d407d627",
   "metadata": {},
   "source": [
    "from tensorflow.keras import Input\n",
    "model = encoder()\n",
    "mod = model.call(Input(shape=(128,10,10)))\n",
    "print(mod.summary())"
   ]
  },
  {
   "cell_type": "code",
   "execution_count": null,
   "id": "d9c94412",
   "metadata": {},
   "outputs": [],
   "source": [
    "class decoder()"
   ]
  }
 ],
 "metadata": {
  "kernelspec": {
   "display_name": "Python 3",
   "language": "python",
   "name": "python3"
  },
  "language_info": {
   "codemirror_mode": {
    "name": "ipython",
    "version": 3
   },
   "file_extension": ".py",
   "mimetype": "text/x-python",
   "name": "python",
   "nbconvert_exporter": "python",
   "pygments_lexer": "ipython3",
   "version": "3.8.8"
  }
 },
 "nbformat": 4,
 "nbformat_minor": 5
}
