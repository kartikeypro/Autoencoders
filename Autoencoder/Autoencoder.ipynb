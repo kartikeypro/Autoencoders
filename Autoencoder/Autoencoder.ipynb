{
 "cells": [
  {
   "cell_type": "code",
   "execution_count": 1,
   "metadata": {},
   "outputs": [],
   "source": [
    "import pandas as pd\n",
    "import numpy as np\n",
    "import matplotlib.pyplot as plt\n",
    "import seaborn as sns"
   ]
  },
  {
   "cell_type": "code",
   "execution_count": 2,
   "metadata": {},
   "outputs": [
    {
     "ename": "ModuleNotFoundError",
     "evalue": "No module named 'keras'",
     "output_type": "error",
     "traceback": [
      "\u001b[0;31m---------------------------------------------------------------------------\u001b[0m",
      "\u001b[0;31mModuleNotFoundError\u001b[0m                       Traceback (most recent call last)",
      "\u001b[0;32m<ipython-input-2-ebebf288ab97>\u001b[0m in \u001b[0;36m<module>\u001b[0;34m\u001b[0m\n\u001b[0;32m----> 1\u001b[0;31m \u001b[0;32mimport\u001b[0m \u001b[0mkeras\u001b[0m\u001b[0;34m\u001b[0m\u001b[0;34m\u001b[0m\u001b[0m\n\u001b[0m\u001b[1;32m      2\u001b[0m \u001b[0;32mfrom\u001b[0m \u001b[0mkeras\u001b[0m\u001b[0;34m.\u001b[0m\u001b[0mlayers\u001b[0m \u001b[0;32mimport\u001b[0m \u001b[0mDense\u001b[0m\u001b[0;34m\u001b[0m\u001b[0;34m\u001b[0m\u001b[0m\n\u001b[1;32m      3\u001b[0m \u001b[0;32mfrom\u001b[0m \u001b[0mkeras\u001b[0m\u001b[0;34m.\u001b[0m\u001b[0mmodels\u001b[0m \u001b[0;32mimport\u001b[0m \u001b[0mSequential\u001b[0m\u001b[0;34m\u001b[0m\u001b[0;34m\u001b[0m\u001b[0m\n\u001b[1;32m      4\u001b[0m \u001b[0;32mfrom\u001b[0m \u001b[0mkeras\u001b[0m \u001b[0;32mimport\u001b[0m \u001b[0mregularizers\u001b[0m\u001b[0;34m\u001b[0m\u001b[0;34m\u001b[0m\u001b[0m\n\u001b[1;32m      5\u001b[0m \u001b[0mencoding_dim\u001b[0m\u001b[0;34m=\u001b[0m\u001b[0;36m32\u001b[0m \u001b[0;31m# Reduced dimension of the original input\u001b[0m\u001b[0;34m\u001b[0m\u001b[0;34m\u001b[0m\u001b[0m\n",
      "\u001b[0;31mModuleNotFoundError\u001b[0m: No module named 'keras'"
     ]
    }
   ],
   "source": [
    "import tensorflow.keras\n",
    "from keras.layers import Dense\n",
    "from keras.models import Sequential\n",
    "from keras import regularizers\n",
    "encoding_dim=32 # Reduced dimension of the original input\n",
    "input_img=keras.Input(shape=(784,)) #Shape of the input\n",
    "\n",
    "encoded=Dense(encoded_dim,activation=\"relu\",activity_regularizer=regularizers.l1(10e-5))(input_img) #Encoder\n",
    "decoded=Dense(784,activation=\"sigmoid\")(encoded) #Decoder"
   ]
  },
  {
   "cell_type": "code",
   "execution_count": 3,
   "metadata": {},
   "outputs": [
    {
     "ename": "NameError",
     "evalue": "name 'keras' is not defined",
     "output_type": "error",
     "traceback": [
      "\u001b[0;31m---------------------------------------------------------------------------\u001b[0m",
      "\u001b[0;31mNameError\u001b[0m                                 Traceback (most recent call last)",
      "\u001b[0;32m<ipython-input-3-4cd8962508ae>\u001b[0m in \u001b[0;36m<module>\u001b[0;34m\u001b[0m\n\u001b[0;32m----> 1\u001b[0;31m \u001b[0mencoder\u001b[0m \u001b[0;34m=\u001b[0m \u001b[0mkeras\u001b[0m\u001b[0;34m.\u001b[0m\u001b[0mModel\u001b[0m\u001b[0;34m(\u001b[0m\u001b[0minput_img\u001b[0m\u001b[0;34m,\u001b[0m \u001b[0mencoded\u001b[0m\u001b[0;34m)\u001b[0m\u001b[0;34m\u001b[0m\u001b[0;34m\u001b[0m\u001b[0m\n\u001b[0m\u001b[1;32m      2\u001b[0m \u001b[0;31m# Model for decoding the input img\u001b[0m\u001b[0;34m\u001b[0m\u001b[0;34m\u001b[0m\u001b[0;34m\u001b[0m\u001b[0m\n\u001b[1;32m      3\u001b[0m \u001b[0mautoencoder\u001b[0m\u001b[0;34m=\u001b[0m\u001b[0mkeras\u001b[0m\u001b[0;34m.\u001b[0m\u001b[0mModel\u001b[0m\u001b[0;34m(\u001b[0m\u001b[0minput_img\u001b[0m\u001b[0;34m,\u001b[0m\u001b[0mdecoded\u001b[0m\u001b[0;34m)\u001b[0m\u001b[0;34m\u001b[0m\u001b[0;34m\u001b[0m\u001b[0m\n\u001b[1;32m      4\u001b[0m \u001b[0;31m# This is our encoded (32-dimensional) input\u001b[0m\u001b[0;34m\u001b[0m\u001b[0;34m\u001b[0m\u001b[0;34m\u001b[0m\u001b[0m\n\u001b[1;32m      5\u001b[0m \u001b[0mencoded_input\u001b[0m \u001b[0;34m=\u001b[0m \u001b[0mkeras\u001b[0m\u001b[0;34m.\u001b[0m\u001b[0mInput\u001b[0m\u001b[0;34m(\u001b[0m\u001b[0mshape\u001b[0m\u001b[0;34m=\u001b[0m\u001b[0;34m(\u001b[0m\u001b[0mencoding_dim\u001b[0m\u001b[0;34m,\u001b[0m\u001b[0;34m)\u001b[0m\u001b[0;34m)\u001b[0m\u001b[0;34m\u001b[0m\u001b[0;34m\u001b[0m\u001b[0m\n",
      "\u001b[0;31mNameError\u001b[0m: name 'keras' is not defined"
     ]
    }
   ],
   "source": [
    "encoder = keras.Model(input_img, encoded)\n",
    "# Model for decoding the input img\n",
    "autoencoder=keras.Model(input_img,decoded)\n",
    "# This is our encoded (32-dimensional) input\n",
    "encoded_input = keras.Input(shape=(encoding_dim,))\n",
    "# Retrieve the last layer of the autoencoder model\n",
    "decoder_layer = autoencoder.layers[-1]\n",
    "# Create the decoder model\n",
    "decoder = keras.Model(encoded_input, decoder_layer(encoded_input))"
   ]
  },
  {
   "cell_type": "code",
   "execution_count": 28,
   "metadata": {},
   "outputs": [],
   "source": [
    "autoencoder.compile(loss=\"binary_crossentropy\",optimizer=\"adam\")"
   ]
  },
  {
   "cell_type": "code",
   "execution_count": 29,
   "metadata": {},
   "outputs": [],
   "source": [
    "from keras.datasets import mnist\n",
    "import numpy as np\n",
    "(x_train,_),(x_test,_)=mnist.load_data()"
   ]
  },
  {
   "cell_type": "code",
   "execution_count": 30,
   "metadata": {},
   "outputs": [
    {
     "name": "stdout",
     "output_type": "stream",
     "text": [
      "(60000, 784)\n",
      "(10000, 784)\n"
     ]
    }
   ],
   "source": [
    "x_train = x_train.astype('float32') / 255.\n",
    "x_test = x_test.astype('float32') / 255.\n",
    "x_train = x_train.reshape((len(x_train), np.prod(x_train.shape[1:])))\n",
    "x_test = x_test.reshape((len(x_test), np.prod(x_test.shape[1:])))\n",
    "print(x_train.shape)\n",
    "print(x_test.shape)"
   ]
  },
  {
   "cell_type": "code",
   "execution_count": 31,
   "metadata": {},
   "outputs": [
    {
     "name": "stdout",
     "output_type": "stream",
     "text": [
      "Epoch 1/50\n",
      "235/235 [==============================] - 2s 7ms/step - loss: 0.2797 - val_loss: 0.1960\n",
      "Epoch 2/50\n",
      "235/235 [==============================] - 2s 7ms/step - loss: 0.1782 - val_loss: 0.1614\n",
      "Epoch 3/50\n",
      "235/235 [==============================] - 2s 7ms/step - loss: 0.1528 - val_loss: 0.1429\n",
      "Epoch 4/50\n",
      "235/235 [==============================] - 2s 7ms/step - loss: 0.1381 - val_loss: 0.1312\n",
      "Epoch 5/50\n",
      "235/235 [==============================] - 2s 7ms/step - loss: 0.1285 - val_loss: 0.1236\n",
      "Epoch 6/50\n",
      "235/235 [==============================] - 2s 7ms/step - loss: 0.1221 - val_loss: 0.1183\n",
      "Epoch 7/50\n",
      "235/235 [==============================] - 2s 7ms/step - loss: 0.1175 - val_loss: 0.1142\n",
      "Epoch 8/50\n",
      "235/235 [==============================] - 2s 8ms/step - loss: 0.1140 - val_loss: 0.1112\n",
      "Epoch 9/50\n",
      "235/235 [==============================] - 2s 10ms/step - loss: 0.1113 - val_loss: 0.1089\n",
      "Epoch 10/50\n",
      "235/235 [==============================] - 2s 8ms/step - loss: 0.1094 - val_loss: 0.1072\n",
      "Epoch 11/50\n",
      "235/235 [==============================] - 2s 7ms/step - loss: 0.1079 - val_loss: 0.1060\n",
      "Epoch 12/50\n",
      "235/235 [==============================] - 2s 7ms/step - loss: 0.1069 - val_loss: 0.1052\n",
      "Epoch 13/50\n",
      "235/235 [==============================] - 2s 7ms/step - loss: 0.1061 - val_loss: 0.1044\n",
      "Epoch 14/50\n",
      "235/235 [==============================] - 2s 7ms/step - loss: 0.1054 - val_loss: 0.1039\n",
      "Epoch 15/50\n",
      "235/235 [==============================] - 2s 7ms/step - loss: 0.1049 - val_loss: 0.1034\n",
      "Epoch 16/50\n",
      "235/235 [==============================] - 2s 6ms/step - loss: 0.1045 - val_loss: 0.1030\n",
      "Epoch 17/50\n",
      "235/235 [==============================] - 2s 6ms/step - loss: 0.1040 - val_loss: 0.1025\n",
      "Epoch 18/50\n",
      "235/235 [==============================] - 1s 6ms/step - loss: 0.1037 - val_loss: 0.1023\n",
      "Epoch 19/50\n",
      "235/235 [==============================] - 2s 7ms/step - loss: 0.1033 - val_loss: 0.1020\n",
      "Epoch 20/50\n",
      "235/235 [==============================] - 2s 10ms/step - loss: 0.1030 - val_loss: 0.1017\n",
      "Epoch 21/50\n",
      "235/235 [==============================] - 2s 7ms/step - loss: 0.1028 - val_loss: 0.1014\n",
      "Epoch 22/50\n",
      "235/235 [==============================] - 2s 7ms/step - loss: 0.1025 - val_loss: 0.1011\n",
      "Epoch 23/50\n",
      "235/235 [==============================] - 2s 8ms/step - loss: 0.1023 - val_loss: 0.1009\n",
      "Epoch 24/50\n",
      "235/235 [==============================] - 2s 7ms/step - loss: 0.1020 - val_loss: 0.1008\n",
      "Epoch 25/50\n",
      "235/235 [==============================] - 2s 7ms/step - loss: 0.1018 - val_loss: 0.1006\n",
      "Epoch 26/50\n",
      "235/235 [==============================] - 2s 7ms/step - loss: 0.1016 - val_loss: 0.1003\n",
      "Epoch 27/50\n",
      "235/235 [==============================] - 1s 6ms/step - loss: 0.1015 - val_loss: 0.1002\n",
      "Epoch 28/50\n",
      "235/235 [==============================] - 1s 6ms/step - loss: 0.1013 - val_loss: 0.1000\n",
      "Epoch 29/50\n",
      "235/235 [==============================] - 2s 6ms/step - loss: 0.1011 - val_loss: 0.0999\n",
      "Epoch 30/50\n",
      "235/235 [==============================] - 2s 6ms/step - loss: 0.1010 - val_loss: 0.0997\n",
      "Epoch 31/50\n",
      "235/235 [==============================] - 1s 6ms/step - loss: 0.1008 - val_loss: 0.0996\n",
      "Epoch 32/50\n",
      "235/235 [==============================] - 1s 6ms/step - loss: 0.1007 - val_loss: 0.0994\n",
      "Epoch 33/50\n",
      "235/235 [==============================] - 2s 7ms/step - loss: 0.1006 - val_loss: 0.0993\n",
      "Epoch 34/50\n",
      "235/235 [==============================] - 2s 7ms/step - loss: 0.1004 - val_loss: 0.0992\n",
      "Epoch 35/50\n",
      "235/235 [==============================] - 2s 7ms/step - loss: 0.1003 - val_loss: 0.0991\n",
      "Epoch 36/50\n",
      "235/235 [==============================] - 2s 7ms/step - loss: 0.1002 - val_loss: 0.0990\n",
      "Epoch 37/50\n",
      "235/235 [==============================] - 2s 7ms/step - loss: 0.1001 - val_loss: 0.0989\n",
      "Epoch 38/50\n",
      "235/235 [==============================] - 2s 6ms/step - loss: 0.1000 - val_loss: 0.0988\n",
      "Epoch 39/50\n",
      "235/235 [==============================] - 1s 6ms/step - loss: 0.0999 - val_loss: 0.0987\n",
      "Epoch 40/50\n",
      "235/235 [==============================] - 1s 6ms/step - loss: 0.0998 - val_loss: 0.0986\n",
      "Epoch 41/50\n",
      "235/235 [==============================] - 2s 7ms/step - loss: 0.0997 - val_loss: 0.0985\n",
      "Epoch 42/50\n",
      "235/235 [==============================] - 2s 7ms/step - loss: 0.0996 - val_loss: 0.0984\n",
      "Epoch 43/50\n",
      "235/235 [==============================] - 2s 7ms/step - loss: 0.0995 - val_loss: 0.0984\n",
      "Epoch 44/50\n",
      "235/235 [==============================] - 2s 8ms/step - loss: 0.0994 - val_loss: 0.0982\n",
      "Epoch 45/50\n",
      "235/235 [==============================] - 2s 10ms/step - loss: 0.0994 - val_loss: 0.0982\n",
      "Epoch 46/50\n",
      "235/235 [==============================] - 2s 10ms/step - loss: 0.0993 - val_loss: 0.0981\n",
      "Epoch 47/50\n",
      "235/235 [==============================] - 2s 8ms/step - loss: 0.0992 - val_loss: 0.0980\n",
      "Epoch 48/50\n",
      "235/235 [==============================] - 2s 8ms/step - loss: 0.0991 - val_loss: 0.0980\n",
      "Epoch 49/50\n",
      "235/235 [==============================] - 2s 7ms/step - loss: 0.0991 - val_loss: 0.0979\n",
      "Epoch 50/50\n",
      "235/235 [==============================] - 2s 7ms/step - loss: 0.0990 - val_loss: 0.0978\n"
     ]
    },
    {
     "data": {
      "text/plain": [
       "<tensorflow.python.keras.callbacks.History at 0x7fd0dd38c550>"
      ]
     },
     "execution_count": 31,
     "metadata": {},
     "output_type": "execute_result"
    }
   ],
   "source": [
    "autoencoder.fit(x_train,x_train,epochs=50,batch_size=256,shuffle=True,validation_data=(x_test,x_test))"
   ]
  },
  {
   "cell_type": "code",
   "execution_count": 32,
   "metadata": {},
   "outputs": [],
   "source": [
    "encoded_imgs=encoder.predict(x_test)\n",
    "decoded_imgs=decoder.predict(encoded_imgs)"
   ]
  },
  {
   "cell_type": "code",
   "execution_count": 33,
   "metadata": {},
   "outputs": [
    {
     "data": {
      "image/png": "[encoded data removed]",
      "text/plain": [
       "<Figure size 1440x288 with 20 Axes>"
      ]
     },
     "metadata": {
      "needs_background": "light"
     },
     "output_type": "display_data"
    }
   ],
   "source": [
    "# Use Matplotlib (don't ask)\n",
    "import matplotlib.pyplot as plt\n",
    "\n",
    "n = 10  # How many digits we will display\n",
    "plt.figure(figsize=(20, 4))\n",
    "for i in range(n):\n",
    "    # Display original\n",
    "    ax = plt.subplot(2, n, i + 1)\n",
    "    plt.imshow(x_test[i].reshape(28, 28))\n",
    "    plt.gray()\n",
    "    ax.get_xaxis().set_visible(False)\n",
    "    ax.get_yaxis().set_visible(False)\n",
    "\n",
    "    # Display reconstruction\n",
    "    ax = plt.subplot(2, n, i + 1 + n)\n",
    "    plt.imshow(decoded_imgs[i].reshape(28, 28))\n",
    "    plt.gray()\n",
    "    ax.get_xaxis().set_visible(False)\n",
    "    ax.get_yaxis().set_visible(False)\n",
    "plt.show()"
   ]
  },
  {
   "cell_type": "markdown",
   "metadata": {},
   "source": [
    "# Deep Auto-encoder"
   ]
  },
  {
   "cell_type": "code",
   "execution_count": 35,
   "metadata": {},
   "outputs": [],
   "source": [
    "input_img = keras.Input(shape=(784,))\n",
    "encoded = Dense(128, activation='relu')(input_img)\n",
    "encoded = Dense(64, activation='relu')(encoded)\n",
    "encoded = Dense(32, activation='relu')(encoded)\n",
    "\n",
    "decoded = Dense(64, activation='relu')(encoded)\n",
    "decoded = Dense(128, activation='relu')(decoded)\n",
    "decoded = Dense(784, activation='sigmoid')(decoded)"
   ]
  },
  {
   "cell_type": "code",
   "execution_count": 36,
   "metadata": {},
   "outputs": [
    {
     "name": "stdout",
     "output_type": "stream",
     "text": [
      "Epoch 1/100\n",
      "235/235 [==============================] - 3s 14ms/step - loss: 0.2469 - val_loss: 0.1688\n",
      "Epoch 2/100\n",
      "235/235 [==============================] - 2s 11ms/step - loss: 0.1533 - val_loss: 0.1396\n",
      "Epoch 3/100\n",
      "235/235 [==============================] - 2s 10ms/step - loss: 0.1332 - val_loss: 0.1262\n",
      "Epoch 4/100\n",
      "235/235 [==============================] - 2s 11ms/step - loss: 0.1242 - val_loss: 0.1192\n",
      "Epoch 5/100\n",
      "235/235 [==============================] - 3s 11ms/step - loss: 0.1181 - val_loss: 0.1142\n",
      "Epoch 6/100\n",
      "235/235 [==============================] - 3s 11ms/step - loss: 0.1130 - val_loss: 0.1101\n",
      "Epoch 7/100\n",
      "235/235 [==============================] - 3s 11ms/step - loss: 0.1096 - val_loss: 0.1079\n",
      "Epoch 8/100\n",
      "235/235 [==============================] - 2s 10ms/step - loss: 0.1069 - val_loss: 0.1046\n",
      "Epoch 9/100\n",
      "235/235 [==============================] - 3s 11ms/step - loss: 0.1048 - val_loss: 0.1028\n",
      "Epoch 10/100\n",
      "235/235 [==============================] - 3s 12ms/step - loss: 0.1028 - val_loss: 0.1012\n",
      "Epoch 11/100\n",
      "235/235 [==============================] - 3s 11ms/step - loss: 0.1012 - val_loss: 0.0995\n",
      "Epoch 12/100\n",
      "235/235 [==============================] - 3s 11ms/step - loss: 0.0999 - val_loss: 0.0983\n",
      "Epoch 13/100\n",
      "235/235 [==============================] - 3s 11ms/step - loss: 0.0987 - val_loss: 0.0974\n",
      "Epoch 14/100\n",
      "235/235 [==============================] - 3s 12ms/step - loss: 0.0977 - val_loss: 0.0963\n",
      "Epoch 15/100\n",
      "235/235 [==============================] - 3s 12ms/step - loss: 0.0968 - val_loss: 0.0954\n",
      "Epoch 16/100\n",
      "235/235 [==============================] - 4s 16ms/step - loss: 0.0960 - val_loss: 0.0946\n",
      "Epoch 17/100\n",
      "235/235 [==============================] - 3s 12ms/step - loss: 0.0953 - val_loss: 0.0943\n",
      "Epoch 18/100\n",
      "235/235 [==============================] - 3s 11ms/step - loss: 0.0946 - val_loss: 0.0935\n",
      "Epoch 19/100\n",
      "235/235 [==============================] - 3s 11ms/step - loss: 0.0940 - val_loss: 0.0928\n",
      "Epoch 20/100\n",
      "235/235 [==============================] - 3s 11ms/step - loss: 0.0935 - val_loss: 0.0925\n",
      "Epoch 21/100\n",
      "235/235 [==============================] - 3s 11ms/step - loss: 0.0929 - val_loss: 0.0925\n",
      "Epoch 22/100\n",
      "235/235 [==============================] - 3s 11ms/step - loss: 0.0924 - val_loss: 0.0914\n",
      "Epoch 23/100\n",
      "235/235 [==============================] - 3s 11ms/step - loss: 0.0918 - val_loss: 0.0913\n",
      "Epoch 24/100\n",
      "235/235 [==============================] - 3s 11ms/step - loss: 0.0914 - val_loss: 0.0904\n",
      "Epoch 25/100\n",
      "235/235 [==============================] - 3s 11ms/step - loss: 0.0909 - val_loss: 0.0900\n",
      "Epoch 26/100\n",
      "235/235 [==============================] - 3s 12ms/step - loss: 0.0905 - val_loss: 0.0895\n",
      "Epoch 27/100\n",
      "235/235 [==============================] - 3s 11ms/step - loss: 0.0901 - val_loss: 0.0894\n",
      "Epoch 28/100\n",
      "235/235 [==============================] - 2s 10ms/step - loss: 0.0897 - val_loss: 0.0888\n",
      "Epoch 29/100\n",
      "235/235 [==============================] - 2s 10ms/step - loss: 0.0894 - val_loss: 0.0886\n",
      "Epoch 30/100\n",
      "235/235 [==============================] - 2s 10ms/step - loss: 0.0890 - val_loss: 0.0881\n",
      "Epoch 31/100\n",
      "235/235 [==============================] - 2s 10ms/step - loss: 0.0887 - val_loss: 0.0879\n",
      "Epoch 32/100\n",
      "235/235 [==============================] - 2s 10ms/step - loss: 0.0885 - val_loss: 0.0879\n",
      "Epoch 33/100\n",
      "235/235 [==============================] - 2s 10ms/step - loss: 0.0882 - val_loss: 0.0875\n",
      "Epoch 34/100\n",
      "235/235 [==============================] - 2s 10ms/step - loss: 0.0879 - val_loss: 0.0872\n",
      "Epoch 35/100\n",
      "235/235 [==============================] - 2s 10ms/step - loss: 0.0877 - val_loss: 0.0871\n",
      "Epoch 36/100\n",
      "235/235 [==============================] - 3s 11ms/step - loss: 0.0874 - val_loss: 0.0869\n",
      "Epoch 37/100\n",
      "235/235 [==============================] - 3s 11ms/step - loss: 0.0872 - val_loss: 0.0864\n",
      "Epoch 38/100\n",
      "235/235 [==============================] - 3s 11ms/step - loss: 0.0868 - val_loss: 0.0865\n",
      "Epoch 39/100\n",
      "235/235 [==============================] - 3s 11ms/step - loss: 0.0866 - val_loss: 0.0860\n",
      "Epoch 40/100\n",
      "235/235 [==============================] - 3s 11ms/step - loss: 0.0864 - val_loss: 0.0858\n",
      "Epoch 41/100\n",
      "235/235 [==============================] - 2s 11ms/step - loss: 0.0862 - val_loss: 0.0856\n",
      "Epoch 42/100\n",
      "235/235 [==============================] - 2s 10ms/step - loss: 0.0860 - val_loss: 0.0855\n",
      "Epoch 43/100\n",
      "235/235 [==============================] - 3s 11ms/step - loss: 0.0859 - val_loss: 0.0854\n",
      "Epoch 44/100\n",
      "235/235 [==============================] - 3s 11ms/step - loss: 0.0857 - val_loss: 0.0851\n",
      "Epoch 45/100\n",
      "235/235 [==============================] - 3s 11ms/step - loss: 0.0855 - val_loss: 0.0851\n",
      "Epoch 46/100\n",
      "235/235 [==============================] - 3s 12ms/step - loss: 0.0854 - val_loss: 0.0853\n",
      "Epoch 47/100\n",
      "235/235 [==============================] - 3s 12ms/step - loss: 0.0853 - val_loss: 0.0848\n",
      "Epoch 48/100\n",
      "235/235 [==============================] - 3s 12ms/step - loss: 0.0852 - val_loss: 0.0847\n",
      "Epoch 49/100\n",
      "235/235 [==============================] - 3s 12ms/step - loss: 0.0850 - val_loss: 0.0844\n",
      "Epoch 50/100\n",
      "235/235 [==============================] - 3s 11ms/step - loss: 0.0849 - val_loss: 0.0845\n",
      "Epoch 51/100\n",
      "235/235 [==============================] - 3s 13ms/step - loss: 0.0849 - val_loss: 0.0844\n",
      "Epoch 52/100\n",
      "235/235 [==============================] - 3s 13ms/step - loss: 0.0848 - val_loss: 0.0843\n",
      "Epoch 53/100\n",
      "235/235 [==============================] - 3s 13ms/step - loss: 0.0847 - val_loss: 0.0843\n",
      "Epoch 54/100\n",
      "235/235 [==============================] - 3s 13ms/step - loss: 0.0846 - val_loss: 0.0845\n",
      "Epoch 55/100\n",
      "235/235 [==============================] - 3s 11ms/step - loss: 0.0845 - val_loss: 0.0843\n",
      "Epoch 56/100\n",
      "235/235 [==============================] - 3s 11ms/step - loss: 0.0844 - val_loss: 0.0838\n",
      "Epoch 57/100\n",
      "235/235 [==============================] - 3s 12ms/step - loss: 0.0843 - val_loss: 0.0839\n",
      "Epoch 58/100\n",
      "235/235 [==============================] - 3s 11ms/step - loss: 0.0843 - val_loss: 0.0839\n",
      "Epoch 59/100\n",
      "235/235 [==============================] - 3s 11ms/step - loss: 0.0842 - val_loss: 0.0839\n",
      "Epoch 60/100\n",
      "235/235 [==============================] - 3s 11ms/step - loss: 0.0842 - val_loss: 0.0839\n",
      "Epoch 61/100\n",
      "235/235 [==============================] - 3s 11ms/step - loss: 0.0841 - val_loss: 0.0838\n",
      "Epoch 62/100\n",
      "235/235 [==============================] - 3s 12ms/step - loss: 0.0840 - val_loss: 0.0839\n",
      "Epoch 63/100\n",
      "235/235 [==============================] - 3s 11ms/step - loss: 0.0840 - val_loss: 0.0838\n",
      "Epoch 64/100\n",
      "235/235 [==============================] - 3s 11ms/step - loss: 0.0839 - val_loss: 0.0836\n",
      "Epoch 65/100\n",
      "235/235 [==============================] - 3s 11ms/step - loss: 0.0839 - val_loss: 0.0835\n",
      "Epoch 66/100\n",
      "235/235 [==============================] - 3s 12ms/step - loss: 0.0838 - val_loss: 0.0836\n",
      "Epoch 67/100\n",
      "235/235 [==============================] - 3s 13ms/step - loss: 0.0838 - val_loss: 0.0837\n",
      "Epoch 68/100\n",
      "235/235 [==============================] - 3s 13ms/step - loss: 0.0837 - val_loss: 0.0833\n",
      "Epoch 69/100\n",
      "235/235 [==============================] - 3s 12ms/step - loss: 0.0837 - val_loss: 0.0832\n",
      "Epoch 70/100\n",
      "235/235 [==============================] - 3s 13ms/step - loss: 0.0836 - val_loss: 0.0832\n",
      "Epoch 71/100\n",
      "235/235 [==============================] - 3s 13ms/step - loss: 0.0835 - val_loss: 0.0832\n",
      "Epoch 72/100\n",
      "235/235 [==============================] - 3s 12ms/step - loss: 0.0835 - val_loss: 0.0833\n",
      "Epoch 73/100\n",
      "235/235 [==============================] - 3s 12ms/step - loss: 0.0835 - val_loss: 0.0831\n",
      "Epoch 74/100\n",
      "235/235 [==============================] - 3s 12ms/step - loss: 0.0834 - val_loss: 0.0833\n",
      "Epoch 75/100\n",
      "235/235 [==============================] - 3s 12ms/step - loss: 0.0834 - val_loss: 0.0831\n",
      "Epoch 76/100\n",
      "235/235 [==============================] - 3s 13ms/step - loss: 0.0834 - val_loss: 0.0831\n",
      "Epoch 77/100\n",
      "235/235 [==============================] - 3s 12ms/step - loss: 0.0833 - val_loss: 0.0832\n",
      "Epoch 78/100\n",
      "235/235 [==============================] - 3s 15ms/step - loss: 0.0832 - val_loss: 0.0830\n",
      "Epoch 79/100\n",
      "235/235 [==============================] - 3s 13ms/step - loss: 0.0833 - val_loss: 0.0832\n",
      "Epoch 80/100\n",
      "235/235 [==============================] - 3s 14ms/step - loss: 0.0832 - val_loss: 0.0831\n",
      "Epoch 81/100\n",
      "235/235 [==============================] - 4s 15ms/step - loss: 0.0832 - val_loss: 0.0827\n",
      "Epoch 82/100\n",
      "235/235 [==============================] - 3s 12ms/step - loss: 0.0831 - val_loss: 0.0829\n",
      "Epoch 83/100\n",
      "235/235 [==============================] - 3s 13ms/step - loss: 0.0831 - val_loss: 0.0829\n",
      "Epoch 84/100\n",
      "235/235 [==============================] - 3s 12ms/step - loss: 0.0831 - val_loss: 0.0827\n",
      "Epoch 85/100\n",
      "235/235 [==============================] - 3s 12ms/step - loss: 0.0830 - val_loss: 0.0828\n",
      "Epoch 86/100\n",
      "235/235 [==============================] - 3s 13ms/step - loss: 0.0830 - val_loss: 0.0827\n",
      "Epoch 87/100\n",
      "235/235 [==============================] - 3s 13ms/step - loss: 0.0829 - val_loss: 0.0827\n",
      "Epoch 88/100\n",
      "235/235 [==============================] - 3s 12ms/step - loss: 0.0829 - val_loss: 0.0826\n",
      "Epoch 89/100\n",
      "235/235 [==============================] - 3s 13ms/step - loss: 0.0829 - val_loss: 0.0828\n",
      "Epoch 90/100\n",
      "235/235 [==============================] - 3s 12ms/step - loss: 0.0829 - val_loss: 0.0830\n",
      "Epoch 91/100\n",
      "235/235 [==============================] - 3s 13ms/step - loss: 0.0828 - val_loss: 0.0828\n",
      "Epoch 92/100\n",
      "235/235 [==============================] - 3s 13ms/step - loss: 0.0828 - val_loss: 0.0827\n",
      "Epoch 93/100\n",
      "235/235 [==============================] - 3s 13ms/step - loss: 0.0828 - val_loss: 0.0827\n",
      "Epoch 94/100\n",
      "235/235 [==============================] - 3s 12ms/step - loss: 0.0827 - val_loss: 0.0826\n",
      "Epoch 95/100\n",
      "235/235 [==============================] - 3s 13ms/step - loss: 0.0828 - val_loss: 0.0827\n",
      "Epoch 96/100\n",
      "235/235 [==============================] - 3s 12ms/step - loss: 0.0827 - val_loss: 0.0830\n",
      "Epoch 97/100\n",
      "235/235 [==============================] - 3s 12ms/step - loss: 0.0827 - val_loss: 0.0824\n",
      "Epoch 98/100\n",
      "235/235 [==============================] - 4s 17ms/step - loss: 0.0827 - val_loss: 0.0826\n",
      "Epoch 99/100\n",
      "235/235 [==============================] - 3s 15ms/step - loss: 0.0826 - val_loss: 0.0826\n",
      "Epoch 100/100\n",
      "235/235 [==============================] - 3s 13ms/step - loss: 0.0826 - val_loss: 0.0824\n"
     ]
    },
    {
     "data": {
      "text/plain": [
       "<tensorflow.python.keras.callbacks.History at 0x7fd0ff03b670>"
      ]
     },
     "execution_count": 36,
     "metadata": {},
     "output_type": "execute_result"
    }
   ],
   "source": [
    "autoencoder = keras.Model(input_img, decoded)\n",
    "autoencoder.compile(optimizer='adam', loss='binary_crossentropy')\n",
    "\n",
    "autoencoder.fit(x_train, x_train,\n",
    "                epochs=100,\n",
    "                batch_size=256,\n",
    "                shuffle=True,\n",
    "                validation_data=(x_test, x_test))"
   ]
  },
  {
   "cell_type": "code",
   "execution_count": 38,
   "metadata": {},
   "outputs": [],
   "source": [
    "encoded_imgs=encoder.predict(x_test)\n",
    "decoded_imgs=decoder.predict(encoded_imgs)"
   ]
  },
  {
   "cell_type": "code",
   "execution_count": 39,
   "metadata": {},
   "outputs": [
    {
     "data": {
      "image/png": "[encoded data removed]",
      "text/plain": [
       "<Figure size 1440x288 with 20 Axes>"
      ]
     },
     "metadata": {
      "needs_background": "light"
     },
     "output_type": "display_data"
    }
   ],
   "source": [
    "# Use Matplotlib (don't ask)\n",
    "import matplotlib.pyplot as plt\n",
    "\n",
    "n = 10  # How many digits we will display\n",
    "plt.figure(figsize=(20, 4))\n",
    "for i in range(n):\n",
    "    # Display original\n",
    "    ax = plt.subplot(2, n, i + 1)\n",
    "    plt.imshow(x_test[i].reshape(28, 28))\n",
    "    plt.gray()\n",
    "    ax.get_xaxis().set_visible(False)\n",
    "    ax.get_yaxis().set_visible(False)\n",
    "\n",
    "    # Display reconstruction\n",
    "    ax = plt.subplot(2, n, i + 1 + n)\n",
    "    plt.imshow(decoded_imgs[i].reshape(28, 28))\n",
    "    plt.gray()\n",
    "    ax.get_xaxis().set_visible(False)\n",
    "    ax.get_yaxis().set_visible(False)\n",
    "plt.show()"
   ]
  },
  {
   "cell_type": "code",
   "execution_count": null,
   "metadata": {},
   "outputs": [],
   "source": []
  }
 ],
 "metadata": {
  "kernelspec": {
   "display_name": "Python 3",
   "language": "python",
   "name": "python3"
  },
  "language_info": {
   "codemirror_mode": {
    "name": "ipython",
    "version": 3
   },
   "file_extension": ".py",
   "mimetype": "text/x-python",
   "name": "python",
   "nbconvert_exporter": "python",
   "pygments_lexer": "ipython3",
   "version": "3.8.8"
  }
 },
 "nbformat": 4,
 "nbformat_minor": 4
}
